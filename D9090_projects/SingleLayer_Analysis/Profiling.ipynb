{
 "cells": [
  {
   "cell_type": "code",
   "execution_count": null,
   "metadata": {},
   "outputs": [],
   "source": [
    "%load_ext line_profiler\n",
    "%load_ext memory_profiler"
   ]
  },
  {
   "cell_type": "code",
   "execution_count": null,
   "metadata": {},
   "outputs": [],
   "source": [
    "from matplotlib import rcParams\n",
    "from smithplot import SmithAxes\n",
    "\n",
    "def Smith_2lines(xx=[0.0,0],y1=[0.0,0],y2=[0.0,0],name0=0,name1=0,name2=0.0):\n",
    "    xx1=xx\n",
    "    xx2=xx\n",
    "    yy1=y1\n",
    "    yy2=y2\n",
    "    \n",
    "    ax = plt.subplot(1, 1, 1, projection='smith')\n",
    "    plt.delaxes(ax)\n",
    "    \n",
    "    ax = plt.subplot(1, 1, 1, projection='smith')\n",
    "    rcParams['figure.figsize'] = 12, 12\n",
    "    rcParams['axes.linewidth'] = 1\n",
    "    rcParams['font.size'] = 15\n",
    "#    X_test1=xx1\n",
    "#    y_pred1=yy1\n",
    "#    nested_pred1 = np.c_[X_test1,y_pred1.T] #add y_pred as a new column to X_test\n",
    "#    R1_n = np.unique(X_test1[:, 0]) / 50 #extract R1 from X_test in Z format\n",
    "#    I1_n = np.unique(X_test1[:, 1]) / 50\n",
    "#    board_1 = np.full([len(I1_n),len(R1_n)], np.nan) #generate empty board to match contour() format\n",
    "    \n",
    "    X_test1=xx1\n",
    "    y_pred1=yy1\n",
    "    nested_pred1 = np.c_[X_test1,y_pred1.T] #add y_pred as a new column to X_test\n",
    "    R1_n = np.unique(X_test1[:, 0]) / 50 #extract R1 from X_test in Z format\n",
    "    I1_n = np.unique(X_test1[:, 1]) / 50\n",
    "    board_1 = np.full([len(I1_n),len(R1_n)], np.nan) #generate empty board to match contour() format\n",
    "    pred_pan1 = pd.DataFrame(board_1, index = I1_n , columns = R1_n)\n",
    "    \n",
    "    X_test2=xx2\n",
    "    y_pred2=yy2\n",
    "    nested_pred2 = np.c_[X_test2,y_pred2.T] #add y_pred as a new column to X_test\n",
    "    R2_n = np.unique(X_test2[:, 0]) / 50 #extract R1 from X_test in Z format\n",
    "    I2_n = np.unique(X_test2[:, 1]) / 50\n",
    "    board_2 = np.full([len(I2_n),len(R2_n)], np.nan) #generate empty board to match contour() format\n",
    "    pred_pan2 = pd.DataFrame(board_2, index = I2_n , columns = R2_n)\n",
    "    \n",
    "    for i in range(len(nested_pred1)): #fill the values\n",
    "        pred_pan1[nested_pred1[i, 0] / 50][nested_pred1[i, 1] / 50] = nested_pred1[i, 2]\n",
    "    for i in range(len(nested_pred2)): #fill the values\n",
    "        pred_pan2[nested_pred2[i, 0] / 50][nested_pred2[i, 1] / 50] = nested_pred2[i, 2]\n",
    "    y_for_xx1 = pred_pan1.values #convert from pandas to numpy\n",
    "    y_for_xx2 = pred_pan2.values\n",
    "\n",
    "    h, v = np.meshgrid(R1_n, I1_n)\n",
    "    #P_e1 = np.reshape(y_pred,(len(I1_n),len(R1_n)))\n",
    "    heights = [10.0, 20.0, 30.0, 40.0, 50.0, 60.0, 70.0, 80.0, 90.0]\n",
    "    cs1 = plt.contour(h, v, y_for_xx1, levels = heights, colors = 'blue', linewidths = 0.9, linestyles = 'solid', alpha = 0.7)\n",
    "    cs2 = plt.contour(h, v, y_for_xx2, levels = heights, colors = 'red', linewidths = 0.9, linestyles = 'solid', alpha = 0.7)\n",
    "    plt.clabel(cs1, inline = 1, inline_spacing = 18, fontsize = 10, fmt = '%1.1f')\n",
    "    plt.clabel(cs2, inline = 1, inline_spacing = 18, fontsize = 10, fmt = '%1.1f')\n",
    "\n",
    "    cs1.collections[0].set_label('Original')\n",
    "    cs2.collections[0].set_label('Predicted')\n",
    "    plt.legend(loc=\"upper right\",frameon = True)\n",
    "    plt.show()\n",
    "    #plt.savefig('./XGB_output/'+str(name0)+'_'+str(name1)+'_'+str(name2)+'.pdf')"
   ]
  },
  {
   "cell_type": "markdown",
   "metadata": {},
   "source": [
    "## Start Profiling with importing the model\n",
    "\n",
    "What you can import include:<br/>\n",
    "sl_rf_memory<br/>\n",
    "sl_xgboost_memory<br/>\n",
    "sl_dnn_memory<br/>\n",
    "sl_svr_memory"
   ]
  },
  {
   "cell_type": "code",
   "execution_count": null,
   "metadata": {},
   "outputs": [],
   "source": [
    "import sl_rf_memory\n",
    "from sl_rf_memory import *\n",
    "\n",
    "# import warnings filter\n",
    "from warnings import simplefilter\n",
    "# ignore all future warnings\n",
    "simplefilter(action='ignore', category=FutureWarning)"
   ]
  },
  {
   "cell_type": "markdown",
   "metadata": {},
   "source": [
    "### Try to draw a smith chart \n",
    "\n",
    "You do not want to jump over this step and it would be fine if errors occur because lack of data."
   ]
  },
  {
   "cell_type": "code",
   "execution_count": null,
   "metadata": {},
   "outputs": [],
   "source": [
    "Smith_2lines()"
   ]
  },
  {
   "cell_type": "markdown",
   "metadata": {},
   "source": [
    "### Memory line-by-line profiling"
   ]
  },
  {
   "cell_type": "code",
   "execution_count": null,
   "metadata": {},
   "outputs": [],
   "source": [
    "#%memit sl_rf_memory.run_it()\n",
    "%mprun -f sl_rf_memory.run_it sl_rf_memory.run_it()"
   ]
  },
  {
   "cell_type": "markdown",
   "metadata": {},
   "source": [
    "### Runtime line-by-line profiling"
   ]
  },
  {
   "cell_type": "code",
   "execution_count": null,
   "metadata": {},
   "outputs": [],
   "source": [
    "%lprun -f sl_rf_memory.run_it sl_rf_memory.run_it()"
   ]
  }
 ],
 "metadata": {
  "kernelspec": {
   "display_name": "Python 3",
   "language": "python",
   "name": "python3"
  },
  "language_info": {
   "codemirror_mode": {
    "name": "ipython",
    "version": 3
   },
   "file_extension": ".py",
   "mimetype": "text/x-python",
   "name": "python",
   "nbconvert_exporter": "python",
   "pygments_lexer": "ipython3",
   "version": "3.7.4"
  }
 },
 "nbformat": 4,
 "nbformat_minor": 2
}
